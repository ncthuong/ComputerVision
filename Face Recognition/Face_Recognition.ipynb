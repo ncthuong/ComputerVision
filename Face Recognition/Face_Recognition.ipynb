{
 "cells": [
  {
   "attachments": {},
   "cell_type": "markdown",
   "metadata": {
    "colab_type": "text",
    "id": "wvm_JmFAN3Xo"
   },
   "source": [
    "# **Nhận dạng khuôn mặt với OpenCV và Python**\n",
    "\n",
    "***Sơ lược***\n",
    "\n",
    "Trong cuộc sống thường ngày, khi chúng ta nhìn thấy một vật thể nào đó, chúng ta hoàn toàn có khả năng nhận ra đó là cái gì nếu chúng ta đã biết nó trước đó. Ví dụ, khi nhìn thấy chiếc xe hơi, chúng ta có thể chắc chắn kết luận đó là một chiếc xe hơi chứ không phải là xe đạp hay xe máy, hoặc khi thấy người thân trong một bức ảnh, chúng ta cũng có thể dễ dàng nhận ra.\n",
    "\n",
    "Tại sao não chúng ta làm được chuyện đó? Câu trả lời là bởi vì não chúng ta đã được \"học\" và ghi nhận về thứ đó trước đây trong quá khứ, đến khi gặp lại việc nhận ra không có gì khó khăn. Ví dụ, nếu chúng ta gặp một người tên Nam trong lần đầu gặp mặt, não chúng ta sẽ tập trung ghi nhận các dữ liệu về khuôn mặt trước tiên như: mắt, mũi, miệng, màu da và tổng quan khuôn mặt. Sau đó, não chúng ta sẽ học và ghi nhận rằng với dữ liệu này thì xác định đây chính là Nam. Nghe có vẻ quá đơn giản, nhưng thực tế điều đó chỉ đơn giản với não con người. Đối với máy tính, phải làm sao để nó có thể nhận dạng ra được một người nào đó trong một ảnh hay một video là điều rất khó khăn.\n",
    "\n",
    "Ngày nay, dưới sự ra đời và hỗ trợ của các thư viện, chúng ta có thể dàng \"làm\" cho máy tính thực hiện được việc nhận dạng khuôn mặt một các dễ dàng. Một trong số đó là thư viện OpenCV. Đây là một thư viện mã nguồn mở hàng đầu cho ngành thị giác máy tính. OpenCV được phát hành theo giấy phép BSD, do đó nó hoàn toàn miễn phí cho cả học thuật và thương mại. Nó có các interface C++, C, Python, Java và hỗ trợ trên các nền tảng Windows, Linux, MacOS, iOS và Android. OpenCV được thiết kế để tính toán hiệu quả đối với các dụng theo thời gian thực, tận dụng lợi thế xử lý đa lõi thông qua việc được viết bằng C/C++. Cộng đồng sử dụng OpenCV hơn 47 nghìn người và số lượng download vượt quá 6 triệu lần.\n",
    "\n",
    "OpenCV Face Recognizers\n",
    "\n",
    "OpenCV có 3 Face Recognizers với code rất rõ ràng bao gồm:\n",
    "1. EigenFaces Face Recognizer Recognizer -cv2.face.createEigenFaceRecognizer()\n",
    "2. FisherFaces Face Recognizer Recognizer - cv2.face.createFisherFaceRecognizer()\n",
    "3. Local Binary Patterns Histograms (LBPH) Face Recognizer - cv2.face.createLBPHFaceRecognizer()\n"
   ]
  },
  {
   "cell_type": "markdown",
   "metadata": {},
   "source": [
    " **Xây dựng Nhận dạng khuôn mặt với OpenCV**\n",
    "\n",
    "Qúa trình xây dựng bộ nhận dạng khuôn mặt bao gồm 3 bước:\n",
    "\n",
    "1. Chuẩn bị dữ liệu: trong bước này chúng ta sẽ đọc dữ liệu training cho mỗi đối tượng với nhãn của đối tượng đó, phát hiện khuôn mặt từ mỗi ảnh và gán mỗi khuôn mặt phát hiện được với một nhãn là số nguyên.\n",
    "2. Đào tạo bộ nhận dạng khuôn mặt: trong bước này chúng ra sẽ đào tạo bộ nhận dạng LBPH của OpenCV bằng dữ liệu đã được chuẩn bị ở bước 1.\n",
    "3. Kiểm tra: trong bước này chúng ta sẽ kiểm tra xem bộ nhận dạng đã đoán đối tượng trong ảnh test đã chính xác chưa.\n"
   ]
  },
  {
   "cell_type": "code",
   "execution_count": 51,
   "metadata": {
    "colab": {},
    "colab_type": "code",
    "id": "vn3Gq9vEaohO"
   },
   "outputs": [],
   "source": [
    "#import OpenCV\n",
    "import cv2\n",
    "#import module os cho việc đọc thư mục và đường dẫn dữ liệu training\n",
    "import os\n",
    "#import numoy để chuyển các list trong python thành các mảng numpy\n",
    "import numpy as np"
   ]
  },
  {
   "cell_type": "markdown",
   "metadata": {
    "colab_type": "text",
    "id": "jcjdNcJCci0p"
   },
   "source": [
    "Traning Data\n",
    "\n",
    "Dữ liệu training càng nhiều càng tốt. Thông thường nhiều ảnh được sử dụng để training bộ nhận dạng khuôn mặt với các góc ảnh và trạng thái của khác nhau của khuôn mặt như đeo kính, không đeo kính, đang cười, buồn, hạnh phúc, đang khóc, có râu, không có râu... Trong bài này, để đơn giản chúng ta chỉ sử dụng 12 ảnh cho mỗi người.\n",
    "Dữ liệu training cho 2 người với mỗi người có 12 ảnh và nằm trong tệp training-data. Cây cấu trúc thư mục dữ liệu training như sau:\n",
    "\n",
    "training-data\n",
    "\n",
    "|-------------- s1\n",
    "\n",
    "|               |-- 1.jpg\n",
    "\n",
    "|               |-- ...\n",
    "\n",
    "|               |-- 12.jpg\n",
    "\n",
    "|-------------- s2\n",
    "\n",
    "|               |-- 1.jpg\n",
    "\n",
    "|               |-- ...\n",
    "\n",
    "|               |-- 12.jpg\n",
    "\n",
    "\n",
    "Thư mục test-data bao gồm các ảnh sẽ được sử dụng để test bộ nhận dạng khuôn mặt sau khi đã training thành công.\n",
    "\n",
    "vì bộ nhận dạng khuôn mặt OpenCV chấp nhận các nhãn là số nguyên, nên chúng ta cần xác định ánh xạ giữa nhãn số nguyên và tên thực của người, vì vậy bên dưới chúng ta sẽ xác định ánh xạ của nhãn số nguyên và tên tương ứng của chúng.\n",
    " \n",
    " Note: Vì chúng ta không có gán nhãn 0 đến bất kỳ người nào nên ánh xạ cho nhãn 0 là rỗng."
   ]
  },
  {
   "cell_type": "code",
   "execution_count": 52,
   "metadata": {
    "colab": {},
    "colab_type": "code",
    "id": "T2dhbbCfPyco"
   },
   "outputs": [],
   "source": [
    "#Không có nhãn 0 trong tập dữ liệu training vì vậy tên cho chỉ số/thư mục 0 là rỗng\n",
    "subjects = [\"\",\"Tran Thanh\", \"Hoai Linh\"]"
   ]
  },
  {
   "cell_type": "markdown",
   "metadata": {
    "colab_type": "text",
    "id": "lXOaYXadQWm_"
   },
   "source": [
    "**Chuẩn bị dữ liệu training**\n",
    "\n",
    "Tại sao chúng ta cần chuẩn bị dữ liệu? Bởi vì bộ nhận dạng khuôn mặt của OpenCV chấp nhận dữ liệu trong định dạng vector. Một vector là khuôn mặt của tất các các người và vector thứ hai là nhãn số nguyên cho mỗi khuôn mặt, để khi xử lý một khuôn mặt, bộ nhận diện biết được khuôn mặt đó là của người nào.\n",
    "\n",
    "Ví dụ: giả sử chúng ta có 2 người và 2 ảnh cho mỗi người\n",
    "\n",
    "PERSON-1    PERSON-2   \n",
    "\n",
    "img1        img1         \n",
    "img2        img2\n",
    "\n",
    "Thì khi chuẩn bị dữ liệu, chúng ra cần tạo ra vector mặt và nhãn như sau:\n",
    "\n",
    "FACES                        LABELS\n",
    "\n",
    "person1_img1_face              1\n",
    "person1_img2_face              1\n",
    "person2_img1_face              2\n",
    "person2_img2_face              2\n",
    "\n",
    "Bước chuẩn bị dữ liệu có thể chia thành các bước con sau:\n",
    "\n",
    "1. Đọc tất cả tên thư mục của đối tượng/người cung cấp trong thư mục dữ liệu training. ví dụ: trong bài này chúng ta có tên thư mục là s1, s2.\n",
    "\n",
    "2. Vỡi mỗi đối tượng, trích xuất số nhãn. Tên thư mục có định dạng sLabel trong đó Label là một số nguyên thể hiện nhãn mà chúng ta đã gáng cho đối tượng. Ví dụ: tên thư mục là s1 có nghĩa là đối tượng có nhãn là 1, s2 có nghĩa là đối tượng có nhãn là 2... Nhãn được trích xuất trong bước này được gán cho mỗi khuôn mặt được phát hiện trong bước kế tiếp.\n",
    "\n",
    "3. Đọc tất cả các ảnh của đối tượng, phát hiện khuôn mặt trong mỗi ảnh.\n",
    "\n",
    "4. Thêm mỗi mặt được phát hiện vào vector mặt với nhãn đối tượng tương ứng thì được thêm vào vector nhãn"
   ]
  },
  {
   "cell_type": "code",
   "execution_count": 53,
   "metadata": {
    "colab": {},
    "colab_type": "code",
    "id": "cYAeoI68Uvzx"
   },
   "outputs": [],
   "source": [
    "#function để phát hiện khuôn mặt sử dụng OpenCV\n",
    "def detect_face(img):\n",
    "    #chuyển đổi ảnh test thành ảnh xám\n",
    "    gray = cv2.cvtColor(img, cv2.COLOR_BGR2GRAY)\n",
    "    \n",
    "    #Load bộ phát hiện mặt của OpenCV, sử dụng LBP vì nó nhanh và độc chính xác cao hơn Haar classifier\n",
    "    face_cascade = cv2.CascadeClassifier('opencv-files\\lbpcascade_frontalface.xml')\n",
    "    \n",
    "    #Phát hiện nhiều ảnh (một vài ảnh có thể gần camera hơn những ảnh khác)\n",
    "    #Kết quả là một danh sách các khuôn mặt\n",
    "    faces = face_cascade.detectMultiScale(gray, scaleFactor = 1.2, minNeighbors = 5);\n",
    "    \n",
    "    #nếu không có khuôn mặt nào được phát hiện thì quay lại ảnh gốc\n",
    "    if (len(faces)==0):\n",
    "        return None, None\n",
    "    \n",
    "    #Chúng ta giả định rằng mỗi ảnh chỉ có một khuôn mặt\n",
    "    #trích xuất vùng khuôn mặt\n",
    "    (x, y, w, h) = faces[0]\n",
    "    \n",
    "    #chỉ trả về phần khuôn mặt của ảnh\n",
    "    return gray[y:y+w, x:x+h], faces[0] \n",
    "    "
   ]
  },
  {
   "cell_type": "code",
   "execution_count": 54,
   "metadata": {
    "colab": {},
    "colab_type": "code",
    "id": "663WYlsY-Meq"
   },
   "outputs": [],
   "source": [
    "#Function này sẽ đọc tất cả các ảnh training người, phát hiện khuôn mặt trong mỗi ảnh\n",
    "#và sẽ trả về 2 danh sách có cùng kích thước, một danh sách các khuôn mặt và một danh sách các nhãn của mỗi khuôn mặt\n",
    "def prepare_training_data(data_folder_path):\n",
    "    #-----Bước 1------\n",
    "    #lấy địa chỉ thư mục (một thư mục cho mỗi đối tượng) trong data folder\n",
    "    dirs = os.listdir(data_folder_path)\n",
    "    \n",
    "    #danh sách để chứa tất cả khuôn mặt các đối tượng\n",
    "    faces = []\n",
    "    #danh sách để chứa các nhãn cho tất cả đối tượng\n",
    "    labels = []\n",
    "    \n",
    "    #Duyệt qua mỗi thư mục và đọc các ảnh trong đó\n",
    "    for dir_name in dirs:\n",
    "        #Thư mục các đối tượng bắt đầu bằng ký tự \"s\" vì vậy bỏ qua mọi thư mục không liên quan nếu có\n",
    "        if not dir_name.startswith(\"s\"):\n",
    "            continue;\n",
    "         \n",
    "        #----Bước 2-----\n",
    "        #Trích xuất số nhãn của đối tượng từ dir_name\n",
    "        #định dạng của dir name = slabel, vì vậy xóa ký tự \"s\" từ dir_name chúng ta sẽ được nhãn\n",
    "        label = int(dir_name.replace(\"s\",\"\"))\n",
    "        \n",
    "        #xây dựng đường dẫn của thư mục hiện tại chứa ảnh đối tượng hiện tại\n",
    "        #ví dụ subject_dir_path = \"training-data/s1\"\n",
    "        subject_dir_path = data_folder_path + \"/\" + dir_name\n",
    "        \n",
    "        #lấy tên các ảnh nằm trong thư mục đối tượng\n",
    "        subject_images_names = os.listdir(subject_dir_path)\n",
    "        \n",
    "        #----Bước 3-----\n",
    "        #Duyệt qua mỗi ảnh, đọc ảnh, phát hiện khuôn mặt và thêm vào danh sách khuôn mặt\n",
    "        for image_name in subject_images_names:\n",
    "            #bỏ qua các file hệ thống như .DS_Store\n",
    "            if image_name.startswith(\".\"):\n",
    "                continue;\n",
    "            \n",
    "            #xây dựng đường dẫn, ví dụ path = training-data/s1/1.pgm\n",
    "            image_path = subject_dir_path + \"/\" + image_name\n",
    "            \n",
    "            #đọc ảnh\n",
    "            image = cv2.imread(image_path)\n",
    "            \n",
    "            #hiển thị một cửa sổ ảnh\n",
    "            cv2.imshow(\"Training on image...\", image)\n",
    "            cv2.waitKey(100)\n",
    "            \n",
    "            #Nhận diện khuôn mặt\n",
    "            face, rect = detect_face(image)\n",
    "            \n",
    "            #----Bước 4-----\n",
    "            #Trong phạm vi bài này chúng ta bỏ qua các khuôn mặt không được phát hiện\n",
    "            if face is not None:\n",
    "                #Thêm khuôn mặt vào danh sách\n",
    "                faces.append(face)\n",
    "                #thêm nhãn cho khuôn mặt đó\n",
    "                labels.append(label)\n",
    "    cv2.destroyAllWindows()\n",
    "    cv2.waitKey(1)\n",
    "    cv2.destroyAllWindows()\n",
    "    return faces, labels\n",
    " \n",
    "                \n",
    "    "
   ]
  },
  {
   "cell_type": "code",
   "execution_count": 55,
   "metadata": {
    "colab": {},
    "colab_type": "code",
    "id": "WZbPZME2JGMb"
   },
   "outputs": [
    {
     "name": "stdout",
     "output_type": "stream",
     "text": [
      "Preparing data...\n",
      "Data prepared\n",
      "Total faces:  19\n",
      "Total labels:  19\n"
     ]
    }
   ],
   "source": [
    "#Đầu tiên cần chuẩn bị dữ liệu training\n",
    "#dữ liệu có trong hai danh sách cùng kích thước\n",
    "#một danh sách bao gồm tất cả khuôn mặt\n",
    "#Một danh sách bao gồm các nhãn cho mỗi khuôn mặt\n",
    "print(\"Preparing data...\")\n",
    "faces, labels = prepare_training_data(\"training-data\")\n",
    "print(\"Data prepared\")\n",
    "\n",
    "#in ra tổng các khuôn mặt và lable\n",
    "print(\"Total faces: \", len(faces))\n",
    "print(\"Total labels: \", len(labels))"
   ]
  },
  {
   "cell_type": "markdown",
   "metadata": {
    "colab_type": "text",
    "id": "EkPqgF5ZLWez"
   },
   "source": [
    "Training bộ nhận dạng khuôn mặt\n",
    "\n",
    "Chúng ta đã biết OpenCV có ba bộ nhận dạng khuôn  mặt:\n",
    "\n",
    "1. EigenFace Recognizer:\n",
    "cv2.face.createEigenFaceRecognizer()\n",
    "2. FisherFace Recognizer:\n",
    "cv2.face.createFisherFaceRecognizer()\n",
    "3. Local Binary Patterns Histogram (LBPH):\n",
    "cv2.face.LBPHFisherFaceRecognizer()\n",
    "\n",
    "Chúng ta sẽ sử dụng LBPH nhưng bạn có thể sử dụng bộ nhận dạng nào của OpenCV đều được. Đơn giản chỉ cần thay đổi dòng khởi tạo bộ nhận dạng\n"
   ]
  },
  {
   "cell_type": "code",
   "execution_count": 56,
   "metadata": {
    "colab": {},
    "colab_type": "code",
    "id": "fcI0ujPqMjZm"
   },
   "outputs": [],
   "source": [
    "#tạo bộ nhận LBPH\n",
    "face_recognizer = cv2.face.LBPHFaceRecognizer_create()\n",
    "\n",
    "#đào tạo bộ nhận khuôn mặt \n",
    "face_recognizer.train(faces, np.array(labels))"
   ]
  },
  {
   "cell_type": "markdown",
   "metadata": {
    "colab_type": "text",
    "id": "8lEz_e7xOpjW"
   },
   "source": [
    "**Dự đoán**\n",
    "\n",
    "Để xem thực sự liệu thuật toán có nhận ra khuôn mặt của các đối tượng được training hay không. Chúng ta sẽ lấy hai ảnh test, phát hiện khuôn mặt từ chúng và sau đó chuyển chúng đến bộ nhận dạng để xem nó có nhận ra không.\n"
   ]
  },
  {
   "cell_type": "code",
   "execution_count": 57,
   "metadata": {
    "colab": {},
    "colab_type": "code",
    "id": "A10AEJArPWv2"
   },
   "outputs": [],
   "source": [
    "#function để vẽ hình chữ nhật trên ảnh theo tọa độ (x, y) và chiều rộng, chiều cao\n",
    "def draw_rectangle(img, rect):\n",
    "    (x, y, w, h) = rect\n",
    "    cv2.rectangle(img, (x, y), (x+w, y+h), (0, 255, 0), 0)\n",
    "    \n",
    "#function để vẽ chữ trên ảnh bắt đầu từ tọa độ (x, y)\n",
    "def draw_text(img, text, x, y):\n",
    "    cv2.putText(img, text, (x, y), cv2.FONT_HERSHEY_PLAIN, 1.5, (0, 255, 0), 2)\n",
    "\n",
    "#function để nhận dạng một người trong ảnh và vẽ hình chữ nhật quanh mặt người đó với tên của họ\n",
    "def predict(test_img):\n",
    "    #tạo một bản copy ảnh vì chúng ta không muốn thay đổi ảnh gốc\n",
    "    img = test_img.copy()\n",
    "    \n",
    "    #phát hiện khuon mặt từ ảnh\n",
    "    face, rect = detect_face(img)\n",
    "    \n",
    "    #dự đoán ảnh sử dụng bộ nhận dạng khuôn mặt của chúng ta\n",
    "    label = face_recognizer.predict(face)\n",
    "    label = label[0]\n",
    "    \n",
    "    #lấy tên của nhãn tương ứng được trả về bởi bộ nhạn dạng khuôn mặt\n",
    "    label_text = subjects[label]\n",
    "    \n",
    "    #vẽ một hình chữ nhật quanh khuôn mặt\n",
    "    draw_rectangle(img, rect)\n",
    "    \n",
    "    #vẽ tên của người được dự đoán\n",
    "    draw_text(img, label_text, rect[0], rect[1]-5)\n",
    "    return img"
   ]
  },
  {
   "cell_type": "markdown",
   "metadata": {
    "colab_type": "text",
    "id": "tbBFP-d6TkFp"
   },
   "source": [
    "Bây giờ chúng ta đã xác định được hàm dự đoán, bước kế tiếp là gọi hàm này trên các ảnh test và hiển thị ảnh test để xem bộ nhận dạng của chúng ta đã nhận dạng chính xác chưa."
   ]
  },
  {
   "cell_type": "code",
   "execution_count": 62,
   "metadata": {
    "colab": {},
    "colab_type": "code",
    "id": "uM8remz3USYm"
   },
   "outputs": [
    {
     "name": "stdout",
     "output_type": "stream",
     "text": [
      "Predicting images...\n",
      "Prediction complete\n"
     ]
    }
   ],
   "source": [
    "print(\"Predicting images...\")\n",
    "\n",
    "#load ảnh test\n",
    "test_img1 = cv2.imread('test-data/test1.jpg')\n",
    "test_img2 = cv2.imread('test-data/test2.jpg')\n",
    "\n",
    "#biểu diễn dự đoán\n",
    "predicted_img1 = predict(test_img1)\n",
    "predicted_img2 = predict(test_img2)\n",
    "print(\"Prediction complete\")\n",
    "\n",
    "#hiển thị hai ảnh\n",
    "cv2.imshow(subjects[1], predicted_img1)\n",
    "cv2.imshow(subjects[2], predicted_img2)\n",
    "cv2.waitKey(0)\n",
    "cv2.destroyAllWindows()"
   ]
  },
  {
   "cell_type": "markdown",
   "metadata": {},
   "source": [
    "**Kết quả đạt được**\n",
    "\n",
    "Bộ nhận dạng khuôn mặt được xây dựng đã nhận dạng thành công với 2 ảnh test thử của 2 đối tượng.\n",
    "Tuy nhiên, dữ liệu còn ít nên có trường hợp ảnh test với khuôn mặt đối tượng có góc nghiêng quá lớn thì bộ nhận dạng sẽ cho ra kết quả sai.\n"
   ]
  },
  {
   "cell_type": "markdown",
   "metadata": {},
   "source": [
    "Tài liệu tham khảo\n",
    "\n",
    "1. https://github.com/informramiz/opencv-face-recognition-python/blob/master/OpenCV-Face-Recognition-Python.ipynb\n",
    "2. https://towardsdatascience.com/face-recognition-using-artificial-intelligence-fffa3b20ad5f"
   ]
  }
 ],
 "metadata": {
  "colab": {
   "collapsed_sections": [],
   "name": "Face_Recognition.ipynb",
   "provenance": [],
   "version": "0.3.2"
  },
  "kernelspec": {
   "display_name": "Python 3",
   "language": "python",
   "name": "python3"
  },
  "language_info": {
   "codemirror_mode": {
    "name": "ipython",
    "version": 3
   },
   "file_extension": ".py",
   "mimetype": "text/x-python",
   "name": "python",
   "nbconvert_exporter": "python",
   "pygments_lexer": "ipython3",
   "version": "3.6.4"
  }
 },
 "nbformat": 4,
 "nbformat_minor": 1
}
